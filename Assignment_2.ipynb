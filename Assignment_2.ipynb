{
 "cells": [
  {
   "cell_type": "markdown",
   "id": "deb4a233",
   "metadata": {},
   "source": [
    "# NLP Assignment 2 "
   ]
  },
  {
   "cell_type": "code",
   "execution_count": 17,
   "id": "4813e556",
   "metadata": {},
   "outputs": [],
   "source": [
    "import pandas as pd\n",
    "import json\n",
    "import os\n",
    "import csv"
   ]
  },
  {
   "cell_type": "markdown",
   "id": "e963c98f",
   "metadata": {},
   "source": [
    "## Loading the dataset"
   ]
  },
  {
   "cell_type": "markdown",
   "id": "5b4e0e58",
   "metadata": {},
   "source": [
    "### ATIS"
   ]
  },
  {
   "cell_type": "code",
   "execution_count": 13,
   "id": "1a601c19",
   "metadata": {},
   "outputs": [],
   "source": [
    "\n",
    "splits = {\n",
    "    'train': 'atis_train.csv',\n",
    "    'test': 'atis_test.csv'\n",
    "}"
   ]
  },
  {
   "cell_type": "code",
   "execution_count": 14,
   "id": "ab95db75",
   "metadata": {},
   "outputs": [
    {
     "name": "stderr",
     "output_type": "stream",
     "text": [
      "d:\\CodingPlayground\\NLP\\Assignment_2\\.env\\Lib\\site-packages\\tqdm\\auto.py:21: TqdmWarning: IProgress not found. Please update jupyter and ipywidgets. See https://ipywidgets.readthedocs.io/en/stable/user_install.html\n",
      "  from .autonotebook import tqdm as notebook_tqdm\n"
     ]
    },
    {
     "name": "stdout",
     "output_type": "stream",
     "text": [
      "ATIS Train shape: (4978, 4)\n",
      "ATIS Test shape: (893, 4)\n",
      "   id       intent                                               text  \\\n",
      "0   0       flight  i want to fly from boston at 838 am and arrive...   \n",
      "1   1       flight  what flights are available from pittsburgh to ...   \n",
      "2   2  flight_time  what is the arrival time in san francisco for ...   \n",
      "3   3      airfare            cheapest airfare from tacoma to orlando   \n",
      "4   4      airfare  round trip fares from pittsburgh to philadelph...   \n",
      "\n",
      "                                               slots  \n",
      "0  O O O O O B-fromloc.city_name O B-depart_time....  \n",
      "1  O O O O O B-fromloc.city_name O B-toloc.city_n...  \n",
      "2  O O O B-flight_time I-flight_time O B-fromloc....  \n",
      "3  B-cost_relative O O B-fromloc.city_name O B-to...  \n",
      "4  B-round_trip I-round_trip O O B-fromloc.city_n...  \n"
     ]
    }
   ],
   "source": [
    "atis_train = pd.read_csv(\"hf://datasets/tuetschek/atis/\" + splits[\"train\"])\n",
    "atis_test = pd.read_csv(\"hf://datasets/tuetschek/atis/\" + splits[\"test\"])\n",
    "\n",
    "print(\"ATIS Train shape:\", atis_train.shape)\n",
    "print(\"ATIS Test shape:\", atis_test.shape)\n",
    "print(atis_train.head())"
   ]
  },
  {
   "cell_type": "markdown",
   "id": "05352766",
   "metadata": {},
   "source": [
    "### Saving the data locally"
   ]
  },
  {
   "cell_type": "code",
   "execution_count": 16,
   "id": "bee5abdf",
   "metadata": {},
   "outputs": [
    {
     "name": "stdout",
     "output_type": "stream",
     "text": [
      "ATIS datasets saved successfully!\n",
      "- Train dataset saved to: Data/ATIS/atis_train.csv\n",
      "- Test dataset saved to: Data/ATIS/atis_test.csv\n"
     ]
    }
   ],
   "source": [
    "\n",
    "os.makedirs(\"Data/ATIS\", exist_ok=True)\n",
    "\n",
    "# Save ATIS datasets to CSV files\n",
    "atis_train.to_csv(\"Data/ATIS/atis_train.csv\", index=False)\n",
    "atis_test.to_csv(\"Data/ATIS/atis_test.csv\", index=False)\n",
    "\n",
    "print(\"ATIS datasets saved successfully!\")\n",
    "print(\"- Train dataset saved to: Data/ATIS/atis_train.csv\")\n",
    "print(\"- Test dataset saved to: Data/ATIS/atis_test.csv\")"
   ]
  },
  {
   "cell_type": "markdown",
   "id": "88d93eb3",
   "metadata": {},
   "source": [
    "### SLURP"
   ]
  },
  {
   "cell_type": "code",
   "execution_count": null,
   "id": "8ba74d8b",
   "metadata": {},
   "outputs": [],
   "source": [
    "\n",
    "def load_jsonl(path):\n",
    "    data = []\n",
    "    with open(path, 'r', encoding='utf-8') as f:\n",
    "        for line in f:\n",
    "            data.append(json.loads(line))\n",
    "    return data\n"
   ]
  },
  {
   "cell_type": "code",
   "execution_count": 5,
   "id": "4881e395",
   "metadata": {},
   "outputs": [
    {
     "name": "stdout",
     "output_type": "stream",
     "text": [
      "SLURP Train size: 11514\n",
      "Example SLURP entry: {'slurp_id': 9024, 'sentence': 'event', 'sentence_annotation': 'event', 'intent': 'calendar_set', 'action': 'set', 'tokens': [{'surface': 'event', 'id': 0, 'lemma': 'event', 'pos': 'NN'}], 'scenario': 'calendar', 'recordings': [{'file': 'audio-1501754435.flac', 'wer': 0.0, 'ent_wer': None, 'status': 'correct'}, {'file': 'audio-1501407267-headset.flac', 'wer': 0.0, 'ent_wer': None, 'status': 'correct'}, {'file': 'audio-1501407267.flac', 'wer': 0.0, 'ent_wer': None, 'status': 'correct'}, {'file': 'audio-1501771798-headset.flac', 'wer': 0.0, 'ent_wer': None, 'status': 'correct'}, {'file': 'audio-1501771798.flac', 'wer': 0.0, 'ent_wer': None, 'status': 'correct'}, {'file': 'audio-1490705711-headset.flac', 'wer': 0.0, 'ent_wer': None, 'status': 'correct'}, {'file': 'audio-1490705711.flac', 'wer': 0.0, 'ent_wer': None, 'status': 'correct'}, {'file': 'audio-1494416970-headset.flac', 'wer': 0.0, 'ent_wer': None, 'status': 'correct'}, {'file': 'audio-1494416970.flac', 'wer': 0.0, 'ent_wer': None, 'status': 'correct'}], 'entities': []}\n"
     ]
    }
   ],
   "source": [
    "\n",
    "slurp_train = load_jsonl(\"slurp_1/train.jsonl\")\n",
    "slurp_dev = load_jsonl(\"slurp_1/devel.jsonl\")\n",
    "slurp_test = load_jsonl(\"slurp_1/test.jsonl\")\n",
    "slurp_train_synth = load_jsonl(\"slurp_1/train_synthetic.jsonl\")\n",
    "\n",
    "print(\"SLURP Train size:\", len(slurp_train))\n",
    "print(\"Example SLURP entry:\", slurp_train[0])"
   ]
  },
  {
   "cell_type": "markdown",
   "id": "6be0360e",
   "metadata": {},
   "source": [
    "### removing the excess fields from the data and converting entities to BIO strings for slot prediction"
   ]
  },
  {
   "cell_type": "markdown",
   "id": "7a52e1b9",
   "metadata": {},
   "source": [
    "### To convert entities field to BIO String"
   ]
  },
  {
   "cell_type": "code",
   "execution_count": 18,
   "id": "a2c48083",
   "metadata": {},
   "outputs": [],
   "source": [
    "def entities_to_bio(tokens, entities):\n",
    "    \"\"\"\n",
    "    tokens: list of token dicts, each has \"surface\" etc.\n",
    "    entities: list of dicts, each with \"span\" (list of token indices) and \"type\"\n",
    "    Returns: list of BIO slot labels (strings), same length as tokens\n",
    "    \"\"\"\n",
    "    T = len(tokens)\n",
    "    bio = [\"O\"] * T\n",
    "    for ent in entities:\n",
    "        span = ent[\"span\"]\n",
    "        stype = ent[\"type\"]\n",
    "        if not span:\n",
    "            continue\n",
    "        # First token in span gets B-\n",
    "        first = span[0]\n",
    "        bio[first] = f\"B-{stype}\"\n",
    "        # If span has more tokens, label them I-\n",
    "        for idx in span[1:]:\n",
    "            bio[idx] = f\"I-{stype}\"\n",
    "    return bio"
   ]
  },
  {
   "cell_type": "markdown",
   "id": "f95ebd8a",
   "metadata": {},
   "source": [
    "### Preproces raw slurp jsons to csv with BIO strings for slot prediction"
   ]
  },
  {
   "cell_type": "code",
   "execution_count": 19,
   "id": "9d32f42b",
   "metadata": {},
   "outputs": [],
   "source": [
    "def process_slurp_jsonl_to_csv(input_jsonl_paths, output_csv_path):\n",
    "    \"\"\"\n",
    "    input_jsonl_paths: list of paths (train, dev, test, etc.)\n",
    "    output_csv_path: path to write the combined CSV\n",
    "    \"\"\"\n",
    "    \n",
    "    os.makedirs(os.path.dirname(output_csv_path), exist_ok=True)\n",
    "\n",
    "    \n",
    "    csv_columns = [\"slurp_id\", \"sentence\", \"intent\", \"entities\", \"slot_string\"]\n",
    "    \n",
    "   \n",
    "    with open(output_csv_path, 'w', encoding='utf-8', newline='') as csvfile:\n",
    "        writer = csv.DictWriter(csvfile, fieldnames=csv_columns)\n",
    "        writer.writeheader()\n",
    "        \n",
    "        for jp in input_jsonl_paths:\n",
    "            data = load_jsonl(jp)\n",
    "            for rec in data:\n",
    "                slurp_id = rec.get(\"slurp_id\")\n",
    "                sentence = rec.get(\"sentence\")\n",
    "                intent = rec.get(\"intent\")\n",
    "                entities = rec.get(\"entities\", [])\n",
    "                tokens = rec.get(\"tokens\", [])\n",
    "                \n",
    "                # Build BIO slot string\n",
    "                bio_labels = entities_to_bio(tokens, entities)\n",
    "                # Join them with space (or some delimiter)\n",
    "                slot_string = \" \".join(bio_labels)\n",
    "                \n",
    "                # Prepare minimal record\n",
    "                out = {\n",
    "                    \"slurp_id\": slurp_id,\n",
    "                    \"sentence\": sentence,\n",
    "                    \"intent\": intent,\n",
    "                    # We convert entities list to JSON string so we can store in CSV\n",
    "                    \"entities\": json.dumps(entities, ensure_ascii=False),\n",
    "                    \"slot_string\": slot_string\n",
    "                }\n",
    "                writer.writerow(out)\n",
    "\n",
    "    print(\"Saved to CSV:\", output_csv_path)"
   ]
  },
  {
   "cell_type": "code",
   "execution_count": 20,
   "id": "614643e4",
   "metadata": {},
   "outputs": [],
   "source": [
    "mapping = [\n",
    "        (\"slurp_1/train.jsonl\",   \"Data/SLURP/slurp_train.csv\"),\n",
    "        (\"slurp_1/devel.jsonl\",   \"Data/SLURP/slurp_dev.csv\"),\n",
    "        (\"slurp_1/test.jsonl\",    \"Data/SLURP/slurp_test.csv\"),\n",
    "        (\"slurp_1/train_synthetic.jsonl\", \"Data/SLURP/slurp_train_synth.csv\"),\n",
    "    ]\n"
   ]
  },
  {
   "cell_type": "code",
   "execution_count": 21,
   "id": "3259115b",
   "metadata": {},
   "outputs": [
    {
     "name": "stdout",
     "output_type": "stream",
     "text": [
      "Saved to CSV: Data/SLURP/slurp_train.csv\n",
      "Saved to CSV: Data/SLURP/slurp_dev.csv\n",
      "Saved to CSV: Data/SLURP/slurp_test.csv\n",
      "Saved to CSV: Data/SLURP/slurp_train_synth.csv\n"
     ]
    }
   ],
   "source": [
    "for in_path, out_csv in mapping:\n",
    "    process_slurp_jsonl_to_csv([in_path], out_csv)"
   ]
  },
  {
   "cell_type": "code",
   "execution_count": null,
   "id": "e3255d76",
   "metadata": {},
   "outputs": [],
   "source": []
  }
 ],
 "metadata": {
  "kernelspec": {
   "display_name": ".env",
   "language": "python",
   "name": "python3"
  },
  "language_info": {
   "codemirror_mode": {
    "name": "ipython",
    "version": 3
   },
   "file_extension": ".py",
   "mimetype": "text/x-python",
   "name": "python",
   "nbconvert_exporter": "python",
   "pygments_lexer": "ipython3",
   "version": "3.13.7"
  }
 },
 "nbformat": 4,
 "nbformat_minor": 5
}
