{
 "cells": [
  {
   "cell_type": "markdown",
   "id": "deb4a233",
   "metadata": {},
   "source": [
    "# NLP Assignment 2 "
   ]
  },
  {
   "cell_type": "code",
   "execution_count": 4,
   "id": "4813e556",
   "metadata": {},
   "outputs": [],
   "source": [
    "import pandas as pd\n",
    "import json\n",
    "\n"
   ]
  },
  {
   "cell_type": "markdown",
   "id": "e963c98f",
   "metadata": {},
   "source": [
    "## Loading the dataset"
   ]
  },
  {
   "cell_type": "markdown",
   "id": "5b4e0e58",
   "metadata": {},
   "source": [
    "### ATIS"
   ]
  },
  {
   "cell_type": "code",
   "execution_count": 1,
   "id": "1a601c19",
   "metadata": {},
   "outputs": [],
   "source": [
    "# -------------------------\n",
    "# Load ATIS (from HuggingFace hosted CSVs)\n",
    "# -------------------------\n",
    "splits = {\n",
    "    'train': 'atis_train.csv',\n",
    "    'test': 'atis_test.csv'\n",
    "}"
   ]
  },
  {
   "cell_type": "code",
   "execution_count": null,
   "id": "ab95db75",
   "metadata": {},
   "outputs": [],
   "source": [
    "atis_train = pd.read_csv(\"hf://datasets/tuetschek/atis/\" + splits[\"train\"])\n",
    "atis_test = pd.read_csv(\"hf://datasets/tuetschek/atis/\" + splits[\"test\"])\n",
    "\n",
    "print(\"ATIS Train shape:\", atis_train.shape)\n",
    "print(\"ATIS Test shape:\", atis_test.shape)\n",
    "print(atis_train.head())"
   ]
  },
  {
   "cell_type": "markdown",
   "id": "88d93eb3",
   "metadata": {},
   "source": [
    "### SLURP"
   ]
  },
  {
   "cell_type": "code",
   "execution_count": 2,
   "id": "8ba74d8b",
   "metadata": {},
   "outputs": [],
   "source": [
    "# -------------------------\n",
    "# Load SLURP (local jsonl files)\n",
    "# -------------------------\n",
    "def load_jsonl(path):\n",
    "    data = []\n",
    "    with open(path, 'r', encoding='utf-8') as f:\n",
    "        for line in f:\n",
    "            data.append(json.loads(line))\n",
    "    return data\n"
   ]
  },
  {
   "cell_type": "code",
   "execution_count": 5,
   "id": "4881e395",
   "metadata": {},
   "outputs": [
    {
     "name": "stdout",
     "output_type": "stream",
     "text": [
      "SLURP Train size: 11514\n",
      "Example SLURP entry: {'slurp_id': 9024, 'sentence': 'event', 'sentence_annotation': 'event', 'intent': 'calendar_set', 'action': 'set', 'tokens': [{'surface': 'event', 'id': 0, 'lemma': 'event', 'pos': 'NN'}], 'scenario': 'calendar', 'recordings': [{'file': 'audio-1501754435.flac', 'wer': 0.0, 'ent_wer': None, 'status': 'correct'}, {'file': 'audio-1501407267-headset.flac', 'wer': 0.0, 'ent_wer': None, 'status': 'correct'}, {'file': 'audio-1501407267.flac', 'wer': 0.0, 'ent_wer': None, 'status': 'correct'}, {'file': 'audio-1501771798-headset.flac', 'wer': 0.0, 'ent_wer': None, 'status': 'correct'}, {'file': 'audio-1501771798.flac', 'wer': 0.0, 'ent_wer': None, 'status': 'correct'}, {'file': 'audio-1490705711-headset.flac', 'wer': 0.0, 'ent_wer': None, 'status': 'correct'}, {'file': 'audio-1490705711.flac', 'wer': 0.0, 'ent_wer': None, 'status': 'correct'}, {'file': 'audio-1494416970-headset.flac', 'wer': 0.0, 'ent_wer': None, 'status': 'correct'}, {'file': 'audio-1494416970.flac', 'wer': 0.0, 'ent_wer': None, 'status': 'correct'}], 'entities': []}\n"
     ]
    }
   ],
   "source": [
    "\n",
    "slurp_train = load_jsonl(\"slurp_1/train.jsonl\")\n",
    "slurp_dev = load_jsonl(\"slurp_1/devel.jsonl\")\n",
    "slurp_test = load_jsonl(\"slurp_1/test.jsonl\")\n",
    "slurp_train_synth = load_jsonl(\"slurp_1/train_synthetic.jsonl\")\n",
    "\n",
    "print(\"SLURP Train size:\", len(slurp_train))\n",
    "print(\"Example SLURP entry:\", slurp_train[0])"
   ]
  },
  {
   "cell_type": "code",
   "execution_count": null,
   "id": "e846fac7",
   "metadata": {},
   "outputs": [],
   "source": []
  }
 ],
 "metadata": {
  "kernelspec": {
   "display_name": ".env",
   "language": "python",
   "name": "python3"
  },
  "language_info": {
   "codemirror_mode": {
    "name": "ipython",
    "version": 3
   },
   "file_extension": ".py",
   "mimetype": "text/x-python",
   "name": "python",
   "nbconvert_exporter": "python",
   "pygments_lexer": "ipython3",
   "version": "3.13.7"
  }
 },
 "nbformat": 4,
 "nbformat_minor": 5
}
